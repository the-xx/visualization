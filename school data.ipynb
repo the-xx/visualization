{
 "cells": [
  {
   "cell_type": "code",
   "execution_count": 51,
   "metadata": {},
   "outputs": [],
   "source": [
    "import sys\n",
    "import os\n",
    "import pandas as pd\n",
    "import matplotlib.pyplot as plt"
   ]
  },
  {
   "cell_type": "code",
   "execution_count": 3,
   "metadata": {},
   "outputs": [],
   "source": [
    "c= os.getcwd()\n"
   ]
  },
  {
   "cell_type": "code",
   "execution_count": 83,
   "metadata": {},
   "outputs": [],
   "source": [
    "# https://data.cityofnewyork.us/Education/2014-2015-School-Budget-Overview/ven4-h25u\n",
    "budget_df = pd.read_csv(os.getcwd() + '/school_budget_2014.csv')\n",
    "demographic_df = pd.read_csv(os.getcwd() + '/2013_-_2018_Demographic_Snapshot_School.csv')\n",
    "performance_df = pd.read_csv(os.getcwd() + '/school_performance_2014.csv')"
   ]
  },
  {
   "cell_type": "code",
   "execution_count": 16,
   "metadata": {},
   "outputs": [
    {
     "data": {
      "text/plain": [
       "array(['Fiscal_Year', 'Location', 'S1: Label a: FY14 Revised Base ',\n",
       "       'S1: Label b: FSF & TL 09 C4E CTT ',\n",
       "       'S1: Label c: FSF Over Formula', 'S2: Label d: FSF Preliminary',\n",
       "       'S2: Label a: FY14 Revised Base', 'S2: Label f: Register Change',\n",
       "       'S2: Label g: Teacher Salary Growth',\n",
       "       'S2: Label h: New School Foundation',\n",
       "       'S3: Label i: FY14 FSF at 100%', 'S3: Foundation  ',\n",
       "       'S3: Label d - Foundation', 'S3: Label i - Foundation',\n",
       "       'S3: Label j: FSF Final%', 'S4: Label d: FY14 FSF Initial',\n",
       "       'S4: AC Name: FSF (HS)', 'S4: AC Name: TL09 C4E CTT (HS)',\n",
       "       'S4: AC Name: Funds Over Formula',\n",
       "       'S5: TL SE Transitional Funding', 'As_Of_Date'], dtype=object)"
      ]
     },
     "execution_count": 16,
     "metadata": {},
     "output_type": "execute_result"
    }
   ],
   "source": [
    "budget_df.columns.values"
   ]
  },
  {
   "cell_type": "code",
   "execution_count": 84,
   "metadata": {},
   "outputs": [
    {
     "data": {
      "text/plain": [
       "array(['DBN', 'School Name', 'Year', 'Total Enrollment',\n",
       "       'Grade PK (Half Day & Full Day)', 'Grade K', 'Grade 1', 'Grade 2',\n",
       "       'Grade 3', 'Grade 4', 'Grade 5', 'Grade 6', 'Grade 7', 'Grade 8',\n",
       "       'Grade 9', 'Grade 10', 'Grade 11', 'Grade 12', '# Female',\n",
       "       '% Female', '# Male', '% Male', '# Asian', '% Asian', '# Black',\n",
       "       '% Black', '# Hispanic', '% Hispanic',\n",
       "       '# Multiple Race Categories Not Represented',\n",
       "       '% Multiple Race Categories Not Represented', '# White', '% White',\n",
       "       '# Students with Disabilities', '% Students with Disabilities',\n",
       "       '# English Language Learners', '% English Language Learners',\n",
       "       '# Poverty', '% Poverty', 'Economic Need Index'], dtype=object)"
      ]
     },
     "execution_count": 84,
     "metadata": {},
     "output_type": "execute_result"
    }
   ],
   "source": [
    "demographic_df.columns.values"
   ]
  },
  {
   "cell_type": "code",
   "execution_count": 17,
   "metadata": {},
   "outputs": [
    {
     "data": {
      "text/plain": [
       "array(['dbn', 'ontrack_year1_2013', 'graduation_rate_2013',\n",
       "       'college_career_rate_2013', 'student_satisfaction_2013',\n",
       "       'ontrack_year1_2012', 'graduation_rate_2012',\n",
       "       'college_career_rate_2012', 'student_satisfaction_2012',\n",
       "       'ontrack_year1_historic_avg_similar_schls',\n",
       "       'graduation_rate_historic_avg_similar_schls',\n",
       "       'college_career_rate_historic_avg_similar_schls',\n",
       "       'student_satisfaction_historic_avg_similar_schls',\n",
       "       'quality_review_rating', 'quality_review_year'], dtype=object)"
      ]
     },
     "execution_count": 17,
     "metadata": {},
     "output_type": "execute_result"
    }
   ],
   "source": [
    "performance_df.columns.values"
   ]
  },
  {
   "cell_type": "code",
   "execution_count": 109,
   "metadata": {},
   "outputs": [],
   "source": [
    "# select only 2014 - 15 demographic data\n",
    "demographic_df = demographic_df.loc[demographic_df['Year'] == '2014-15']"
   ]
  },
  {
   "cell_type": "code",
   "execution_count": 110,
   "metadata": {},
   "outputs": [],
   "source": [
    "performance_df = pd.merge(performance_df, demographic_df, left_on='dbn', right_on='DBN', how='inner')"
   ]
  },
  {
   "cell_type": "code",
   "execution_count": 111,
   "metadata": {},
   "outputs": [],
   "source": [
    "# remove district code '01M001 -> M001'\n",
    "performance_df['dbn'] = performance_df['dbn'].apply(lambda line: line[2:])"
   ]
  },
  {
   "cell_type": "code",
   "execution_count": 112,
   "metadata": {},
   "outputs": [],
   "source": [
    "df = pd.merge(performance_df, budget_df, left_on='dbn', right_on='Location', how='inner')"
   ]
  },
  {
   "cell_type": "code",
   "execution_count": 113,
   "metadata": {},
   "outputs": [],
   "source": [
    "df = df.dropna()\n",
    "df['graduation_rate_2013'] = df['graduation_rate_2013'].str.rstrip('%').astype('float') / 100.0\n",
    "df['ontrack_year1_2013'] = df['ontrack_year1_2013'].str.rstrip('%').astype('float') / 100.0\n",
    "df['Economic Need Index'] =  df['Economic Need Index'].str.rstrip('%').astype('float') / 100.0\n"
   ]
  },
  {
   "cell_type": "code",
   "execution_count": 198,
   "metadata": {},
   "outputs": [],
   "source": [
    "df['graduation_rate_historic_avg_similar_schls'] =  df['graduation_rate_historic_avg_similar_schls'].str.rstrip('%').astype('float') / 100.0\n",
    "df['college_career_rate_historic_avg_similar_schls'] =  df['college_career_rate_historic_avg_similar_schls'].str.rstrip('%').astype('float') / 100.0\n",
    "   "
   ]
  },
  {
   "cell_type": "code",
   "execution_count": 126,
   "metadata": {},
   "outputs": [
    {
     "data": {
      "text/plain": [
       "array(['dbn', 'ontrack_year1_2013', 'graduation_rate_2013',\n",
       "       'college_career_rate_2013', 'student_satisfaction_2013',\n",
       "       'ontrack_year1_2012', 'graduation_rate_2012',\n",
       "       'college_career_rate_2012', 'student_satisfaction_2012',\n",
       "       'ontrack_year1_historic_avg_similar_schls',\n",
       "       'graduation_rate_historic_avg_similar_schls',\n",
       "       'college_career_rate_historic_avg_similar_schls',\n",
       "       'student_satisfaction_historic_avg_similar_schls',\n",
       "       'quality_review_rating', 'quality_review_year', 'DBN',\n",
       "       'School Name', 'Year', 'Total Enrollment',\n",
       "       'Grade PK (Half Day & Full Day)', 'Grade K', 'Grade 1', 'Grade 2',\n",
       "       'Grade 3', 'Grade 4', 'Grade 5', 'Grade 6', 'Grade 7', 'Grade 8',\n",
       "       'Grade 9', 'Grade 10', 'Grade 11', 'Grade 12', '# Female',\n",
       "       '% Female', '# Male', '% Male', '# Asian', '% Asian', '# Black',\n",
       "       '% Black', '# Hispanic', '% Hispanic',\n",
       "       '# Multiple Race Categories Not Represented',\n",
       "       '% Multiple Race Categories Not Represented', '# White', '% White',\n",
       "       '# Students with Disabilities', '% Students with Disabilities',\n",
       "       '# English Language Learners', '% English Language Learners',\n",
       "       '# Poverty', '% Poverty', 'Economic Need Index', 'Fiscal_Year',\n",
       "       'Location', 'S1: Label a: FY14 Revised Base ',\n",
       "       'S1: Label b: FSF & TL 09 C4E CTT ',\n",
       "       'S1: Label c: FSF Over Formula', 'S2: Label d: FSF Preliminary',\n",
       "       'S2: Label a: FY14 Revised Base', 'S2: Label f: Register Change',\n",
       "       'S2: Label g: Teacher Salary Growth',\n",
       "       'S2: Label h: New School Foundation',\n",
       "       'S3: Label i: FY14 FSF at 100%', 'S3: Foundation  ',\n",
       "       'S3: Label d - Foundation', 'S3: Label i - Foundation',\n",
       "       'S3: Label j: FSF Final%', 'S4: Label d: FY14 FSF Initial',\n",
       "       'S4: AC Name: FSF (HS)', 'S4: AC Name: TL09 C4E CTT (HS)',\n",
       "       'S4: AC Name: Funds Over Formula',\n",
       "       'S5: TL SE Transitional Funding', 'As_Of_Date'], dtype=object)"
      ]
     },
     "execution_count": 126,
     "metadata": {},
     "output_type": "execute_result"
    }
   ],
   "source": [
    "df.columns.values"
   ]
  },
  {
   "cell_type": "code",
   "execution_count": 129,
   "metadata": {},
   "outputs": [],
   "source": [
    "df['Spending per student'] = df['S2: Label d: FSF Preliminary']/df['Total Enrollment']"
   ]
  },
  {
   "cell_type": "code",
   "execution_count": 133,
   "metadata": {},
   "outputs": [
    {
     "data": {
      "text/plain": [
       "<matplotlib.collections.PathCollection at 0x11f8e4290>"
      ]
     },
     "execution_count": 133,
     "metadata": {},
     "output_type": "execute_result"
    },
    {
     "data": {
      "image/png": "[encoded data removed]",
      "text/plain": [
       "<Figure size 432x288 with 1 Axes>"
      ]
     },
     "metadata": {
      "needs_background": "light"
     },
     "output_type": "display_data"
    }
   ],
   "source": [
    "plt.scatter(df['Spending per student'], df['graduation_rate_2013'])\n",
    "# plt.scatter( df['graduation_rate_2013'], df['Spending per student'])"
   ]
  },
  {
   "cell_type": "code",
   "execution_count": 131,
   "metadata": {},
   "outputs": [
    {
     "data": {
      "text/plain": [
       "<matplotlib.collections.PathCollection at 0x11b124a10>"
      ]
     },
     "execution_count": 131,
     "metadata": {},
     "output_type": "execute_result"
    },
    {
     "data": {
      "image/png": "[encoded data removed]",
      "text/plain": [
       "<Figure size 432x288 with 1 Axes>"
      ]
     },
     "metadata": {
      "needs_background": "light"
     },
     "output_type": "display_data"
    }
   ],
   "source": [
    "\n",
    "plt.scatter( df['Spending per student'],df['ontrack_year1_2013'])"
   ]
  },
  {
   "cell_type": "code",
   "execution_count": 170,
   "metadata": {},
   "outputs": [
    {
     "data": {
      "text/html": [
       "<div>\n",
       "<style scoped>\n",
       "    .dataframe tbody tr th:only-of-type {\n",
       "        vertical-align: middle;\n",
       "    }\n",
       "\n",
       "    .dataframe tbody tr th {\n",
       "        vertical-align: top;\n",
       "    }\n",
       "\n",
       "    .dataframe thead th {\n",
       "        text-align: right;\n",
       "    }\n",
       "</style>\n",
       "<table border=\"1\" class=\"dataframe\">\n",
       "  <thead>\n",
       "    <tr style=\"text-align: right;\">\n",
       "      <th></th>\n",
       "      <th>School Name</th>\n",
       "      <th>graduation_rate_2013</th>\n",
       "      <th>Spending per student</th>\n",
       "      <th>Total Enrollment</th>\n",
       "      <th>% English Language Learners</th>\n",
       "      <th>% Students with Disabilities</th>\n",
       "      <th>Economic Need Index</th>\n",
       "    </tr>\n",
       "  </thead>\n",
       "  <tbody>\n",
       "    <tr>\n",
       "      <th>153</th>\n",
       "      <td>Bronx High School of Business</td>\n",
       "      <td>0.43</td>\n",
       "      <td>8798.872507</td>\n",
       "      <td>339</td>\n",
       "      <td>29.8</td>\n",
       "      <td>26.3</td>\n",
       "      <td>85.4%</td>\n",
       "    </tr>\n",
       "    <tr>\n",
       "      <th>294</th>\n",
       "      <td>Multicultural High School</td>\n",
       "      <td>0.29</td>\n",
       "      <td>8624.660306</td>\n",
       "      <td>229</td>\n",
       "      <td>90.0</td>\n",
       "      <td>2.2</td>\n",
       "      <td>96.4%</td>\n",
       "    </tr>\n",
       "    <tr>\n",
       "      <th>176</th>\n",
       "      <td>Fordham Leadership Academy</td>\n",
       "      <td>0.38</td>\n",
       "      <td>8037.906187</td>\n",
       "      <td>438</td>\n",
       "      <td>16.7</td>\n",
       "      <td>28.8</td>\n",
       "      <td>85.4%</td>\n",
       "    </tr>\n",
       "    <tr>\n",
       "      <th>70</th>\n",
       "      <td>Wadleigh Secondary School for the Performing &amp;...</td>\n",
       "      <td>0.44</td>\n",
       "      <td>7912.941506</td>\n",
       "      <td>445</td>\n",
       "      <td>4.9</td>\n",
       "      <td>22.5</td>\n",
       "      <td>77.3%</td>\n",
       "    </tr>\n",
       "    <tr>\n",
       "      <th>89</th>\n",
       "      <td>Academy for Social Action</td>\n",
       "      <td>0.59</td>\n",
       "      <td>7767.864017</td>\n",
       "      <td>234</td>\n",
       "      <td>17.9</td>\n",
       "      <td>27.4</td>\n",
       "      <td>81.4%</td>\n",
       "    </tr>\n",
       "    <tr>\n",
       "      <th>243</th>\n",
       "      <td>El Puente Academy for Peace and Justice</td>\n",
       "      <td>0.78</td>\n",
       "      <td>7439.981184</td>\n",
       "      <td>245</td>\n",
       "      <td>15.5</td>\n",
       "      <td>24.5</td>\n",
       "      <td>77.7%</td>\n",
       "    </tr>\n",
       "    <tr>\n",
       "      <th>0</th>\n",
       "      <td>Orchard Collegiate Academy</td>\n",
       "      <td>0.58</td>\n",
       "      <td>7426.995412</td>\n",
       "      <td>255</td>\n",
       "      <td>11.8</td>\n",
       "      <td>32.5</td>\n",
       "      <td>83.9%</td>\n",
       "    </tr>\n",
       "    <tr>\n",
       "      <th>245</th>\n",
       "      <td>Digital Arts and Cinema Technology High School</td>\n",
       "      <td>0.75</td>\n",
       "      <td>7236.969120</td>\n",
       "      <td>250</td>\n",
       "      <td>7.2</td>\n",
       "      <td>34.4</td>\n",
       "      <td>75.6%</td>\n",
       "    </tr>\n",
       "    <tr>\n",
       "      <th>233</th>\n",
       "      <td>The Williamsburg High School of Art and Techno...</td>\n",
       "      <td>0.49</td>\n",
       "      <td>7105.459891</td>\n",
       "      <td>276</td>\n",
       "      <td>25.4</td>\n",
       "      <td>22.1</td>\n",
       "      <td>82.2%</td>\n",
       "    </tr>\n",
       "    <tr>\n",
       "      <th>154</th>\n",
       "      <td>Bronx High School for Medical Science</td>\n",
       "      <td>0.88</td>\n",
       "      <td>7033.662436</td>\n",
       "      <td>472</td>\n",
       "      <td>3.0</td>\n",
       "      <td>12.1</td>\n",
       "      <td>79.7%</td>\n",
       "    </tr>\n",
       "  </tbody>\n",
       "</table>\n",
       "</div>"
      ],
      "text/plain": [
       "                                           School Name  graduation_rate_2013  \\\n",
       "153                      Bronx High School of Business                  0.43   \n",
       "294                          Multicultural High School                  0.29   \n",
       "176                         Fordham Leadership Academy                  0.38   \n",
       "70   Wadleigh Secondary School for the Performing &...                  0.44   \n",
       "89                           Academy for Social Action                  0.59   \n",
       "243            El Puente Academy for Peace and Justice                  0.78   \n",
       "0                           Orchard Collegiate Academy                  0.58   \n",
       "245     Digital Arts and Cinema Technology High School                  0.75   \n",
       "233  The Williamsburg High School of Art and Techno...                  0.49   \n",
       "154              Bronx High School for Medical Science                  0.88   \n",
       "\n",
       "     Spending per student  Total Enrollment  % English Language Learners  \\\n",
       "153           8798.872507               339                         29.8   \n",
       "294           8624.660306               229                         90.0   \n",
       "176           8037.906187               438                         16.7   \n",
       "70            7912.941506               445                          4.9   \n",
       "89            7767.864017               234                         17.9   \n",
       "243           7439.981184               245                         15.5   \n",
       "0             7426.995412               255                         11.8   \n",
       "245           7236.969120               250                          7.2   \n",
       "233           7105.459891               276                         25.4   \n",
       "154           7033.662436               472                          3.0   \n",
       "\n",
       "     % Students with Disabilities Economic Need Index  \n",
       "153                          26.3               85.4%  \n",
       "294                           2.2               96.4%  \n",
       "176                          28.8               85.4%  \n",
       "70                           22.5               77.3%  \n",
       "89                           27.4               81.4%  \n",
       "243                          24.5               77.7%  \n",
       "0                            32.5               83.9%  \n",
       "245                          34.4               75.6%  \n",
       "233                          22.1               82.2%  \n",
       "154                          12.1               79.7%  "
      ]
     },
     "execution_count": 170,
     "metadata": {},
     "output_type": "execute_result"
    }
   ],
   "source": [
    "df.nlargest(10, 'Spending per student')[['School Name',\n",
    "                                          'graduation_rate_2013',\n",
    "                                          'Spending per student',\n",
    "                                          'Total Enrollment',\n",
    "                                         '% English Language Learners',\n",
    "                                        '% Students with Disabilities',\n",
    "                                         'Economic Need Index']]"
   ]
  },
  {
   "cell_type": "code",
   "execution_count": 165,
   "metadata": {},
   "outputs": [
    {
     "data": {
      "text/html": [
       "<div>\n",
       "<style scoped>\n",
       "    .dataframe tbody tr th:only-of-type {\n",
       "        vertical-align: middle;\n",
       "    }\n",
       "\n",
       "    .dataframe tbody tr th {\n",
       "        vertical-align: top;\n",
       "    }\n",
       "\n",
       "    .dataframe thead th {\n",
       "        text-align: right;\n",
       "    }\n",
       "</style>\n",
       "<table border=\"1\" class=\"dataframe\">\n",
       "  <thead>\n",
       "    <tr style=\"text-align: right;\">\n",
       "      <th></th>\n",
       "      <th>School Name</th>\n",
       "      <th>graduation_rate_2013</th>\n",
       "      <th>Spending per student</th>\n",
       "      <th>Total Enrollment</th>\n",
       "      <th>% English Language Learners</th>\n",
       "      <th>% Students with Disabilities</th>\n",
       "      <th>Economic Need Index</th>\n",
       "    </tr>\n",
       "  </thead>\n",
       "  <tbody>\n",
       "    <tr>\n",
       "      <th>364</th>\n",
       "      <td>Scholars' Academy</td>\n",
       "      <td>1.00</td>\n",
       "      <td>3992.020553</td>\n",
       "      <td>1302</td>\n",
       "      <td>0.0</td>\n",
       "      <td>2.3</td>\n",
       "      <td>40.0%</td>\n",
       "    </tr>\n",
       "    <tr>\n",
       "      <th>273</th>\n",
       "      <td>Medgar Evers College Preparatory School</td>\n",
       "      <td>0.96</td>\n",
       "      <td>4028.230480</td>\n",
       "      <td>1271</td>\n",
       "      <td>0.5</td>\n",
       "      <td>3.5</td>\n",
       "      <td>46.0%</td>\n",
       "    </tr>\n",
       "    <tr>\n",
       "      <th>81</th>\n",
       "      <td>Manhattan Center for Science and Mathematics</td>\n",
       "      <td>0.90</td>\n",
       "      <td>4182.119732</td>\n",
       "      <td>1603</td>\n",
       "      <td>3.4</td>\n",
       "      <td>6.6</td>\n",
       "      <td>68.1%</td>\n",
       "    </tr>\n",
       "    <tr>\n",
       "      <th>4</th>\n",
       "      <td>New Explorations into Science, Technology and ...</td>\n",
       "      <td>0.98</td>\n",
       "      <td>4188.640928</td>\n",
       "      <td>1735</td>\n",
       "      <td>0.1</td>\n",
       "      <td>3.8</td>\n",
       "      <td>25.7%</td>\n",
       "    </tr>\n",
       "    <tr>\n",
       "      <th>72</th>\n",
       "      <td>Beacon High School</td>\n",
       "      <td>0.99</td>\n",
       "      <td>4229.736086</td>\n",
       "      <td>1285</td>\n",
       "      <td>0.1</td>\n",
       "      <td>5.8</td>\n",
       "      <td>27.7%</td>\n",
       "    </tr>\n",
       "    <tr>\n",
       "      <th>359</th>\n",
       "      <td>Channel View School for Research</td>\n",
       "      <td>0.86</td>\n",
       "      <td>4312.401640</td>\n",
       "      <td>683</td>\n",
       "      <td>1.5</td>\n",
       "      <td>14.2</td>\n",
       "      <td>52.9%</td>\n",
       "    </tr>\n",
       "    <tr>\n",
       "      <th>26</th>\n",
       "      <td>Institute for Collaborative Education</td>\n",
       "      <td>0.94</td>\n",
       "      <td>4369.612780</td>\n",
       "      <td>482</td>\n",
       "      <td>0.0</td>\n",
       "      <td>7.3</td>\n",
       "      <td>26.4%</td>\n",
       "    </tr>\n",
       "    <tr>\n",
       "      <th>318</th>\n",
       "      <td>Midwood High School</td>\n",
       "      <td>0.85</td>\n",
       "      <td>4426.484890</td>\n",
       "      <td>3787</td>\n",
       "      <td>3.3</td>\n",
       "      <td>6.7</td>\n",
       "      <td>52.1%</td>\n",
       "    </tr>\n",
       "    <tr>\n",
       "      <th>310</th>\n",
       "      <td>Abraham Lincoln High School</td>\n",
       "      <td>0.67</td>\n",
       "      <td>4485.686894</td>\n",
       "      <td>2341</td>\n",
       "      <td>13.4</td>\n",
       "      <td>15.4</td>\n",
       "      <td>69.9%</td>\n",
       "    </tr>\n",
       "    <tr>\n",
       "      <th>196</th>\n",
       "      <td>Harry S Truman High School</td>\n",
       "      <td>0.58</td>\n",
       "      <td>4512.307930</td>\n",
       "      <td>2058</td>\n",
       "      <td>4.8</td>\n",
       "      <td>18.3</td>\n",
       "      <td>67.1%</td>\n",
       "    </tr>\n",
       "  </tbody>\n",
       "</table>\n",
       "</div>"
      ],
      "text/plain": [
       "                                           School Name  graduation_rate_2013  \\\n",
       "364                                  Scholars' Academy                  1.00   \n",
       "273            Medgar Evers College Preparatory School                  0.96   \n",
       "81        Manhattan Center for Science and Mathematics                  0.90   \n",
       "4    New Explorations into Science, Technology and ...                  0.98   \n",
       "72                                  Beacon High School                  0.99   \n",
       "359                   Channel View School for Research                  0.86   \n",
       "26               Institute for Collaborative Education                  0.94   \n",
       "318                                Midwood High School                  0.85   \n",
       "310                        Abraham Lincoln High School                  0.67   \n",
       "196                         Harry S Truman High School                  0.58   \n",
       "\n",
       "     Spending per student  Total Enrollment  % English Language Learners  \\\n",
       "364           3992.020553              1302                          0.0   \n",
       "273           4028.230480              1271                          0.5   \n",
       "81            4182.119732              1603                          3.4   \n",
       "4             4188.640928              1735                          0.1   \n",
       "72            4229.736086              1285                          0.1   \n",
       "359           4312.401640               683                          1.5   \n",
       "26            4369.612780               482                          0.0   \n",
       "318           4426.484890              3787                          3.3   \n",
       "310           4485.686894              2341                         13.4   \n",
       "196           4512.307930              2058                          4.8   \n",
       "\n",
       "     % Students with Disabilities Economic Need Index  \n",
       "364                           2.3               40.0%  \n",
       "273                           3.5               46.0%  \n",
       "81                            6.6               68.1%  \n",
       "4                             3.8               25.7%  \n",
       "72                            5.8               27.7%  \n",
       "359                          14.2               52.9%  \n",
       "26                            7.3               26.4%  \n",
       "318                           6.7               52.1%  \n",
       "310                          15.4               69.9%  \n",
       "196                          18.3               67.1%  "
      ]
     },
     "execution_count": 165,
     "metadata": {},
     "output_type": "execute_result"
    }
   ],
   "source": [
    "df.nsmallest(10, 'Spending per student')[['School Name',\n",
    "                                          'graduation_rate_2013',\n",
    "                                          'Spending per student',\n",
    "                                          'Total Enrollment',\n",
    "                                          '% English Language Learners',\n",
    "                                         '% Students with Disabilities',\n",
    "                                         'Economic Need Index']]"
   ]
  },
  {
   "cell_type": "code",
   "execution_count": 154,
   "metadata": {},
   "outputs": [
    {
     "data": {
      "text/html": [
       "<div>\n",
       "<style scoped>\n",
       "    .dataframe tbody tr th:only-of-type {\n",
       "        vertical-align: middle;\n",
       "    }\n",
       "\n",
       "    .dataframe tbody tr th {\n",
       "        vertical-align: top;\n",
       "    }\n",
       "\n",
       "    .dataframe thead th {\n",
       "        text-align: right;\n",
       "    }\n",
       "</style>\n",
       "<table border=\"1\" class=\"dataframe\">\n",
       "  <thead>\n",
       "    <tr style=\"text-align: right;\">\n",
       "      <th></th>\n",
       "      <th>dbn</th>\n",
       "      <th>ontrack_year1_2013</th>\n",
       "      <th>graduation_rate_2013</th>\n",
       "      <th>college_career_rate_2013</th>\n",
       "      <th>student_satisfaction_2013</th>\n",
       "      <th>ontrack_year1_2012</th>\n",
       "      <th>graduation_rate_2012</th>\n",
       "      <th>college_career_rate_2012</th>\n",
       "      <th>student_satisfaction_2012</th>\n",
       "      <th>ontrack_year1_historic_avg_similar_schls</th>\n",
       "      <th>...</th>\n",
       "      <th>S3: Label d - Foundation</th>\n",
       "      <th>S3: Label i - Foundation</th>\n",
       "      <th>S3: Label j: FSF Final%</th>\n",
       "      <th>S4: Label d: FY14 FSF Initial</th>\n",
       "      <th>S4: AC Name: FSF (HS)</th>\n",
       "      <th>S4: AC Name: TL09 C4E CTT (HS)</th>\n",
       "      <th>S4: AC Name: Funds Over Formula</th>\n",
       "      <th>S5: TL SE Transitional Funding</th>\n",
       "      <th>As_Of_Date</th>\n",
       "      <th>Spending per student</th>\n",
       "    </tr>\n",
       "  </thead>\n",
       "  <tbody>\n",
       "    <tr>\n",
       "      <th>93</th>\n",
       "      <td>M692</td>\n",
       "      <td>1.0</td>\n",
       "      <td>0.99</td>\n",
       "      <td>98%</td>\n",
       "      <td>8.2</td>\n",
       "      <td>97%</td>\n",
       "      <td>99%</td>\n",
       "      <td>60%</td>\n",
       "      <td>7.6</td>\n",
       "      <td>97%</td>\n",
       "      <td>...</td>\n",
       "      <td>3061064.99</td>\n",
       "      <td>2470466.3</td>\n",
       "      <td>1.2391</td>\n",
       "      <td>3286065.0</td>\n",
       "      <td>2695465.0</td>\n",
       "      <td>0.0</td>\n",
       "      <td>590600.0</td>\n",
       "      <td>0.0</td>\n",
       "      <td>05/29/2014</td>\n",
       "      <td>6991.627638</td>\n",
       "    </tr>\n",
       "  </tbody>\n",
       "</table>\n",
       "<p>1 rows × 76 columns</p>\n",
       "</div>"
      ],
      "text/plain": [
       "     dbn  ontrack_year1_2013  graduation_rate_2013 college_career_rate_2013  \\\n",
       "93  M692                 1.0                  0.99                      98%   \n",
       "\n",
       "    student_satisfaction_2013 ontrack_year1_2012 graduation_rate_2012  \\\n",
       "93                        8.2                97%                  99%   \n",
       "\n",
       "   college_career_rate_2012  student_satisfaction_2012  \\\n",
       "93                      60%                        7.6   \n",
       "\n",
       "   ontrack_year1_historic_avg_similar_schls          ...           \\\n",
       "93                                      97%          ...            \n",
       "\n",
       "   S3: Label d - Foundation S3: Label i - Foundation  S3: Label j: FSF Final%  \\\n",
       "93               3061064.99                2470466.3                   1.2391   \n",
       "\n",
       "   S4: Label d: FY14 FSF Initial S4: AC Name: FSF (HS)  \\\n",
       "93                     3286065.0             2695465.0   \n",
       "\n",
       "   S4: AC Name: TL09 C4E CTT (HS) S4: AC Name: Funds Over Formula  \\\n",
       "93                            0.0                        590600.0   \n",
       "\n",
       "   S5: TL SE Transitional Funding  As_Of_Date  Spending per student  \n",
       "93                            0.0  05/29/2014           6991.627638  \n",
       "\n",
       "[1 rows x 76 columns]"
      ]
     },
     "execution_count": 154,
     "metadata": {},
     "output_type": "execute_result"
    }
   ],
   "source": [
    "df[df['dbn'] == 'M692']"
   ]
  },
  {
   "cell_type": "code",
   "execution_count": 78,
   "metadata": {},
   "outputs": [
    {
     "data": {
      "text/plain": [
       "(array([ 1.,  0.,  0.,  1.,  3.,  7., 12., 16., 26., 29., 63., 52., 32.,\n",
       "        34., 38.]),\n",
       " array([0.31 , 0.356, 0.402, 0.448, 0.494, 0.54 , 0.586, 0.632, 0.678,\n",
       "        0.724, 0.77 , 0.816, 0.862, 0.908, 0.954, 1.   ]),\n",
       " <a list of 15 Patch objects>)"
      ]
     },
     "execution_count": 78,
     "metadata": {},
     "output_type": "execute_result"
    },
    {
     "data": {
      "image/png": "[encoded data removed]",
      "text/plain": [
       "<Figure size 432x288 with 1 Axes>"
      ]
     },
     "metadata": {
      "needs_background": "light"
     },
     "output_type": "display_data"
    }
   ],
   "source": [
    "plt.hist(df['ontrack_year1_2013'].values, bins='auto')"
   ]
  },
  {
   "cell_type": "code",
   "execution_count": 177,
   "metadata": {},
   "outputs": [
    {
     "data": {
      "text/plain": [
       "(array([ 4.,  9., 16., 26., 32., 61., 41., 36., 36., 44.]),\n",
       " array([0.29 , 0.361, 0.432, 0.503, 0.574, 0.645, 0.716, 0.787, 0.858,\n",
       "        0.929, 1.   ]),\n",
       " <a list of 10 Patch objects>)"
      ]
     },
     "execution_count": 177,
     "metadata": {},
     "output_type": "execute_result"
    },
    {
     "data": {
      "image/png": "[encoded data removed]",
      "text/plain": [
       "<Figure size 432x288 with 1 Axes>"
      ]
     },
     "metadata": {
      "needs_background": "light"
     },
     "output_type": "display_data"
    }
   ],
   "source": [
    "plt.hist(df['graduation_rate_2013'].values, bins='auto')\n"
   ]
  },
  {
   "cell_type": "code",
   "execution_count": 173,
   "metadata": {},
   "outputs": [
    {
     "data": {
      "text/plain": [
       "(array([ 7., 11.,  7.,  8., 17., 17., 18., 42., 44., 52., 52., 18., 12.]),\n",
       " array([0.21 , 0.268, 0.326, 0.384, 0.442, 0.5  , 0.558, 0.616, 0.674,\n",
       "        0.732, 0.79 , 0.848, 0.906, 0.964]),\n",
       " <a list of 13 Patch objects>)"
      ]
     },
     "execution_count": 173,
     "metadata": {},
     "output_type": "execute_result"
    },
    {
     "data": {
      "image/png": "[encoded data removed]",
      "text/plain": [
       "<Figure size 432x288 with 1 Axes>"
      ]
     },
     "metadata": {
      "needs_background": "light"
     },
     "output_type": "display_data"
    }
   ],
   "source": [
    "plt.hist(df['Economic Need Index'].values, bins='auto')"
   ]
  },
  {
   "cell_type": "code",
   "execution_count": 176,
   "metadata": {},
   "outputs": [
    {
     "data": {
      "text/plain": [
       "<matplotlib.collections.PathCollection at 0x12065f250>"
      ]
     },
     "execution_count": 176,
     "metadata": {},
     "output_type": "execute_result"
    },
    {
     "data": {
      "image/png": "[encoded data removed]",
      "text/plain": [
       "<Figure size 432x288 with 1 Axes>"
      ]
     },
     "metadata": {
      "needs_background": "light"
     },
     "output_type": "display_data"
    }
   ],
   "source": [
    "plt.scatter(df['Economic Need Index'],df['graduation_rate_2013'])"
   ]
  },
  {
   "cell_type": "code",
   "execution_count": 181,
   "metadata": {},
   "outputs": [
    {
     "ename": "AttributeError",
     "evalue": "'function' object has no attribute 'show'",
     "output_type": "error",
     "traceback": [
      "\u001b[0;31m---------------------------------------------------------------------------\u001b[0m",
      "\u001b[0;31mAttributeError\u001b[0m                            Traceback (most recent call last)",
      "\u001b[0;32m<ipython-input-181-0f85080fb8e6>\u001b[0m in \u001b[0;36m<module>\u001b[0;34m()\u001b[0m\n\u001b[0;32m----> 1\u001b[0;31m \u001b[0mdf\u001b[0m\u001b[0;34m[\u001b[0m\u001b[0;34m'Economic Need Index'\u001b[0m\u001b[0;34m]\u001b[0m\u001b[0;34m.\u001b[0m\u001b[0mplot\u001b[0m\u001b[0;34m.\u001b[0m\u001b[0mbox\u001b[0m\u001b[0;34m.\u001b[0m\u001b[0mshow\u001b[0m\u001b[0;34m(\u001b[0m\u001b[0;34m)\u001b[0m\u001b[0;34m\u001b[0m\u001b[0m\n\u001b[0m",
      "\u001b[0;31mAttributeError\u001b[0m: 'function' object has no attribute 'show'"
     ]
    }
   ],
   "source": [
    "df['Economic Need Index'].plot.box"
   ]
  },
  {
   "cell_type": "code",
   "execution_count": 182,
   "metadata": {},
   "outputs": [],
   "source": [
    "from pandas.plotting import scatter_matrix"
   ]
  },
  {
   "cell_type": "code",
   "execution_count": 211,
   "metadata": {},
   "outputs": [
    {
     "data": {
      "text/plain": [
       "array([[<matplotlib.axes._subplots.AxesSubplot object at 0x1a3caf2050>,\n",
       "        <matplotlib.axes._subplots.AxesSubplot object at 0x1a3d51c0d0>,\n",
       "        <matplotlib.axes._subplots.AxesSubplot object at 0x1a3dcf8cd0>,\n",
       "        <matplotlib.axes._subplots.AxesSubplot object at 0x1a3dd2be90>,\n",
       "        <matplotlib.axes._subplots.AxesSubplot object at 0x1a3dd6b090>],\n",
       "       [<matplotlib.axes._subplots.AxesSubplot object at 0x1a3dda2250>,\n",
       "        <matplotlib.axes._subplots.AxesSubplot object at 0x1a3dddc410>,\n",
       "        <matplotlib.axes._subplots.AxesSubplot object at 0x1a3de145d0>,\n",
       "        <matplotlib.axes._subplots.AxesSubplot object at 0x1a3de4b790>,\n",
       "        <matplotlib.axes._subplots.AxesSubplot object at 0x1a3de82950>],\n",
       "       [<matplotlib.axes._subplots.AxesSubplot object at 0x1a3debbb10>,\n",
       "        <matplotlib.axes._subplots.AxesSubplot object at 0x1a3def5cd0>,\n",
       "        <matplotlib.axes._subplots.AxesSubplot object at 0x1a3df2de90>,\n",
       "        <matplotlib.axes._subplots.AxesSubplot object at 0x1a3df70090>,\n",
       "        <matplotlib.axes._subplots.AxesSubplot object at 0x1a3dfa9250>],\n",
       "       [<matplotlib.axes._subplots.AxesSubplot object at 0x1a3dfe1410>,\n",
       "        <matplotlib.axes._subplots.AxesSubplot object at 0x1a3e0195d0>,\n",
       "        <matplotlib.axes._subplots.AxesSubplot object at 0x1a3e052790>,\n",
       "        <matplotlib.axes._subplots.AxesSubplot object at 0x1a3e08a950>,\n",
       "        <matplotlib.axes._subplots.AxesSubplot object at 0x1a3e0c4b10>],\n",
       "       [<matplotlib.axes._subplots.AxesSubplot object at 0x1a3e0fccd0>,\n",
       "        <matplotlib.axes._subplots.AxesSubplot object at 0x1a3e135e90>,\n",
       "        <matplotlib.axes._subplots.AxesSubplot object at 0x1a3e177090>,\n",
       "        <matplotlib.axes._subplots.AxesSubplot object at 0x1a3e1b0250>,\n",
       "        <matplotlib.axes._subplots.AxesSubplot object at 0x1a3e1e8410>]],\n",
       "      dtype=object)"
      ]
     },
     "execution_count": 211,
     "metadata": {},
     "output_type": "execute_result"
    },
    {
     "data": {
      "image/png": "[encoded data removed]",
      "text/plain": [
       "<Figure size 864x864 with 25 Axes>"
      ]
     },
     "metadata": {
      "needs_background": "light"
     },
     "output_type": "display_data"
    }
   ],
   "source": [
    "scatter_matrix(df[df['% White'] > 50][['graduation_rate_2013',\n",
    "                   'Economic Need Index',\n",
    "                   '% English Language Learners',\n",
    "                   'Spending per student',\n",
    "                   'student_satisfaction_2013'\n",
    "                  ]], alpha=0.2, figsize=(12, 12))"
   ]
  },
  {
   "cell_type": "code",
   "execution_count": 199,
   "metadata": {},
   "outputs": [
    {
     "data": {
      "text/plain": [
       "0      0.42\n",
       "1      0.41\n",
       "2      0.65\n",
       "3      0.39\n",
       "4      0.87\n",
       "5      0.89\n",
       "11     0.54\n",
       "12     0.54\n",
       "13     0.48\n",
       "14     0.63\n",
       "15     0.49\n",
       "16     0.43\n",
       "17     0.54\n",
       "18     0.53\n",
       "19     0.52\n",
       "20     0.54\n",
       "25     0.67\n",
       "26     0.66\n",
       "27     0.79\n",
       "28     0.84\n",
       "29     0.76\n",
       "30     0.73\n",
       "31     0.80\n",
       "32     0.87\n",
       "33     0.83\n",
       "34     0.45\n",
       "35     0.67\n",
       "37     0.45\n",
       "42     0.70\n",
       "43     0.51\n",
       "       ... \n",
       "385    0.66\n",
       "387    0.46\n",
       "388    0.49\n",
       "389    0.49\n",
       "390    0.60\n",
       "391    0.49\n",
       "395    0.48\n",
       "396    0.50\n",
       "400    0.49\n",
       "401    0.48\n",
       "402    0.86\n",
       "403    0.59\n",
       "404    0.44\n",
       "405    0.73\n",
       "406    0.88\n",
       "407    0.68\n",
       "409    0.65\n",
       "410    0.53\n",
       "411    0.44\n",
       "412    0.49\n",
       "413    0.69\n",
       "414    0.59\n",
       "415    0.42\n",
       "416    0.90\n",
       "418    0.37\n",
       "419    0.48\n",
       "420    0.43\n",
       "421    0.31\n",
       "422    0.68\n",
       "423    0.43\n",
       "Name: college_career_rate_historic_avg_similar_schls, Length: 305, dtype: float64"
      ]
     },
     "execution_count": 199,
     "metadata": {},
     "output_type": "execute_result"
    }
   ],
   "source": []
  },
  {
   "cell_type": "code",
   "execution_count": null,
   "metadata": {},
   "outputs": [],
   "source": []
  }
 ],
 "metadata": {
  "kernelspec": {
   "display_name": "Python 2",
   "language": "python",
   "name": "python2"
  },
  "language_info": {
   "codemirror_mode": {
    "name": "ipython",
    "version": 2
   },
   "file_extension": ".py",
   "mimetype": "text/x-python",
   "name": "python",
   "nbconvert_exporter": "python",
   "pygments_lexer": "ipython2",
   "version": "2.7.15"
  }
 },
 "nbformat": 4,
 "nbformat_minor": 2
}
